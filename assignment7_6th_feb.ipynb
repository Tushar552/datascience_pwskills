{
 "cells": [
  {
   "cell_type": "markdown",
   "id": "befe9b64",
   "metadata": {},
   "source": [
    "### Q1. Create a function which will take a list as an argument and return the product of all the numbers after creating a flat list.\n",
    "#### Use the below-given list as an argument for your function.\n",
    "#### list1 = [1,2,3,4, [44,55,66, True], False, (34,56,78,89,34), {1,2,3,3,2,1}, {1:34, \"key2\": [55, 67, 78, 89], 4: (45, 22, 61, 34)}, [56, 'data science'], 'Machine Learning']\n",
    "##### Note: you must extract numeric keys and values of the dictionary also."
   ]
  },
  {
   "cell_type": "code",
   "execution_count": 66,
   "id": "97272c51",
   "metadata": {},
   "outputs": [
    {
     "name": "stdout",
     "output_type": "stream",
     "text": [
      "list1 =  [1, 2, 3, 4, [44, 55, 66, True], False, (34, 56, 78, 89, 34), {1, 2, 3}, {1: 34, 'key2': [55, 67, 78, 89], 4: (45, 22, 61, 34)}, [56, 'data science'], 'Machine Learning']\n",
      " \n",
      "Product of Numbers in list1 =  4134711838987085478833841242112000\n"
     ]
    }
   ],
   "source": [
    "list1 = [1,2,3,4, [44,55,66, True], False, (34,56,78,89,34), {1,2,3,3,2,1}, {1:34, \"key2\": [55, 67, 78, 89], 4: (45, 22, 61, 34)}, [56, 'data science'], 'Machine Learning']\n",
    "\n",
    "\n",
    "# step 1: extracting numbers from list, tuple and set and appending in list i.e l \n",
    "def extract_number(i):\n",
    "    l = []\n",
    "    if type(i) == int:\n",
    "        l.append(i)\n",
    "        return l\n",
    "    if type(i) == list or type(i) == tuple or type(i) == set:\n",
    "        for j in i:\n",
    "            if type(j) == int:\n",
    "                l.append(j)\n",
    "        return l\n",
    "\n",
    "    \n",
    "# step 2: extracting numbers from dictonary using list_product with the help of extract_numbers\n",
    "# step 3: extending list l1 after getting list from extract_numbers after some operations in list_product\n",
    "def list_product(l):\n",
    "    l1 = []\n",
    "    for i in l:\n",
    "        if type(i) == dict:\n",
    "            for j in list(i.values()):\n",
    "                l1.extend(extract_number(j)) if type(extract_number(j)) == list else None\n",
    "            for j in list(i.keys()):\n",
    "                l1.extend(extract_number(j)) if type(extract_number(j)) == list else None\n",
    "        else:\n",
    "            l1.extend(extract_number(i)) if type(extract_number(i)) == list else None\n",
    "\n",
    "# step 4: using reduce function to find product\n",
    "    from functools import  reduce #importing reduce\n",
    "    return reduce(lambda x,y: x*y, l1)\n",
    "\n",
    "# step 5: Showing output after using list1 in list_product function \n",
    "print(\"list1 = \",list1)\n",
    "print(\" \")\n",
    "print(\"Product of Numbers in list1 = \", list_product(list1))"
   ]
  },
  {
   "cell_type": "markdown",
   "id": "06f102e1",
   "metadata": {},
   "source": [
    "### Q2. Write a python program for encrypting a message sent to you by your friend. The logic of encryption should be such that, for a the output should be z. For b, the output should be y. For c, the output should be x respectively. Also, the whitespace should be replaced with a dollar sign. Keep the punctuation marks unchanged.\n",
    "\n",
    "#### Input Sentence: I want to become a Data Scientist.\n",
    "\n",
    "#### Encrypt the above input sentence using the program you just created.\n",
    "##### Note: Convert the given input sentence into lowercase before encrypting. The final output should be lowercase."
   ]
  },
  {
   "cell_type": "code",
   "execution_count": 21,
   "id": "37046d94",
   "metadata": {},
   "outputs": [
    {
     "name": "stdout",
     "output_type": "stream",
     "text": [
      "unencrypted message =  I want to become a Data Scientist.\n",
      " \n",
      "encrypted message   =  I$wznt$to$yexome$z$Dztz$Sxientist.\n"
     ]
    }
   ],
   "source": [
    "unencrypted_message = \"I want to become a Data Scientist.\"\n",
    "\n",
    "def encrypt_message(message):\n",
    "    orignal = ['a','b','c',' ']\n",
    "    encrypt = ['z','y','x','$']\n",
    "    i = 0\n",
    "    while i < len(orignal) and i < len(encrypt):\n",
    "        message = message.replace(orignal[i],encrypt[i])\n",
    "        i +=1\n",
    "    return message\n",
    "\n",
    "print(\"unencrypted message = \", unencrypted_message)\n",
    "print(\" \")\n",
    "print(\"encrypted message   = \",encrypt_message(unencrypted_message))\n",
    "\n",
    "        \n"
   ]
  }
 ],
 "metadata": {
  "kernelspec": {
   "display_name": "Python 3 (ipykernel)",
   "language": "python",
   "name": "python3"
  },
  "language_info": {
   "codemirror_mode": {
    "name": "ipython",
    "version": 3
   },
   "file_extension": ".py",
   "mimetype": "text/x-python",
   "name": "python",
   "nbconvert_exporter": "python",
   "pygments_lexer": "ipython3",
   "version": "3.8.10"
  }
 },
 "nbformat": 4,
 "nbformat_minor": 5
}
