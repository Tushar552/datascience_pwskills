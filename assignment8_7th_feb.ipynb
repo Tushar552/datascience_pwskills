{
 "cells": [
  {
   "cell_type": "markdown",
   "id": "befe9b64",
   "metadata": {},
   "source": [
    "### Q1. You are writing code for a company. The requirement of the company is that you create a python function that will check whether the password entered by the user is correct or not. The function should take the password as input and return the string “Valid Password” if the entered password follows the below-given password guidelines else it should return “Invalid Password”.\n",
    "#### Note:-\n",
    "##### 1. The Password should contain at least two uppercase letters and at least two lowercase letters.\n",
    "##### 2. The Password should contain at least a number and three special characters.\n",
    "##### 3. The length of the password should be 10 characters long."
   ]
  },
  {
   "cell_type": "code",
   "execution_count": 6,
   "id": "bf0732aa",
   "metadata": {},
   "outputs": [
    {
     "name": "stdout",
     "output_type": "stream",
     "text": [
      "Enter Password : Hello\n"
     ]
    },
    {
     "data": {
      "text/plain": [
       "'Invalid Password'"
      ]
     },
     "execution_count": 6,
     "metadata": {},
     "output_type": "execute_result"
    }
   ],
   "source": [
    "entered_password = tuple(input(\"Enter Password : \"))\n",
    "\n",
    "def password_validation(user_password):\n",
    "    password = tuple(\"A@s252#t?E\")\n",
    "    return 'Valid Password' if user_password == password else 'Invalid Password'\n",
    "\n",
    "password_validation(entered_password)"
   ]
  },
  {
   "cell_type": "markdown",
   "id": "06f102e1",
   "metadata": {},
   "source": [
    "### Q2. Solve the below-given questions using at least one of the following: \n",
    "#### 1. Lambda function\n",
    "#### 2. Filter function\n",
    "#### 3. Map function\n",
    "#### 4. List Comprehension\n",
    "\n",
    "### Questions :-\n",
    "\n"
   ]
  },
  {
   "cell_type": "markdown",
   "id": "1ad8c599",
   "metadata": {},
   "source": [
    "#### 1) Check if the string starts with a particular letter"
   ]
  },
  {
   "cell_type": "code",
   "execution_count": 38,
   "id": "bd29de3f",
   "metadata": {},
   "outputs": [
    {
     "name": "stdout",
     "output_type": "stream",
     "text": [
      "True\n",
      "False\n"
     ]
    }
   ],
   "source": [
    "starts_with = lambda string, letter: string[0] == letter\n",
    "\n",
    "print(starts_with(\"Hello\", \"H\"))\n",
    "print(starts_with(\"Hello\", \"h\"))"
   ]
  },
  {
   "cell_type": "markdown",
   "id": "e52ff367",
   "metadata": {},
   "source": [
    "#### 2) Check if the string is numeric"
   ]
  },
  {
   "cell_type": "code",
   "execution_count": 39,
   "id": "aabc2207",
   "metadata": {},
   "outputs": [
    {
     "name": "stdout",
     "output_type": "stream",
     "text": [
      "True\n",
      "False\n"
     ]
    }
   ],
   "source": [
    "def is_numeric(string):\n",
    "    return string.isdigit()\n",
    "\n",
    "print(is_numeric(\"123\"))\n",
    "print(is_numeric(\"abc\"))"
   ]
  },
  {
   "cell_type": "markdown",
   "id": "1dbd5237",
   "metadata": {},
   "source": [
    "#### 3) Sort a list of tuples having fruit names and their quantity. [(\"mango\",99),(\"orange\",80), (\"grapes\", 1000)]"
   ]
  },
  {
   "cell_type": "code",
   "execution_count": 40,
   "id": "344f358e",
   "metadata": {},
   "outputs": [
    {
     "name": "stdout",
     "output_type": "stream",
     "text": [
      "[('orange', 80), ('mango', 99), ('grapes', 1000)]\n"
     ]
    }
   ],
   "source": [
    "fruits = [(\"mango\", 99), (\"orange\", 80), (\"grapes\", 1000)]\n",
    "\n",
    "sorted_fruits = sorted(fruits, key=lambda x: x[1])\n",
    "\n",
    "print(sorted_fruits)"
   ]
  },
  {
   "cell_type": "markdown",
   "id": "9cbc9dc3",
   "metadata": {},
   "source": [
    "#### 4) Find the squares of numbers from 1 to 10"
   ]
  },
  {
   "cell_type": "code",
   "execution_count": 41,
   "id": "a8b44d66",
   "metadata": {},
   "outputs": [
    {
     "name": "stdout",
     "output_type": "stream",
     "text": [
      "[1, 4, 9, 16, 25, 36, 49, 64, 81, 100]\n"
     ]
    }
   ],
   "source": [
    "squared_numbers = [x**2 for x in range(1, 11)]\n",
    "\n",
    "print(squared_numbers)"
   ]
  },
  {
   "cell_type": "markdown",
   "id": "40751c19",
   "metadata": {},
   "source": [
    "#### 5) Find the cube root of numbers from 1 to 10"
   ]
  },
  {
   "cell_type": "code",
   "execution_count": 42,
   "id": "bdca179b",
   "metadata": {},
   "outputs": [
    {
     "name": "stdout",
     "output_type": "stream",
     "text": [
      "[1.0, 1.2599210498948732, 1.4422495703074083, 1.5874010519681994, 1.7099759466766968, 1.8171205928321397, 1.912931182772389, 2.0, 2.080083823051904, 2.154434690031884]\n"
     ]
    }
   ],
   "source": [
    "import math\n",
    "\n",
    "cuberoot_numbers = [math.pow(x, 1/3) for x in range(1, 11)]\n",
    "\n",
    "print(cuberoot_numbers)"
   ]
  },
  {
   "cell_type": "markdown",
   "id": "69a3763c",
   "metadata": {},
   "source": [
    "#### 6) Check if a given number is even"
   ]
  },
  {
   "cell_type": "code",
   "execution_count": 43,
   "id": "5f0f5f86",
   "metadata": {},
   "outputs": [
    {
     "name": "stdout",
     "output_type": "stream",
     "text": [
      "True\n",
      "False\n"
     ]
    }
   ],
   "source": [
    "def is_even(number):\n",
    "    return number % 2 == 0\n",
    "\n",
    "print(is_even(2)) # True\n",
    "print(is_even(3)) # False"
   ]
  },
  {
   "cell_type": "markdown",
   "id": "359ca63f",
   "metadata": {},
   "source": [
    "#### 7) Filter odd numbers from the given list. [1,2,3,4,5,6,7,8,9,10]"
   ]
  },
  {
   "cell_type": "code",
   "execution_count": 44,
   "id": "df8252cb",
   "metadata": {},
   "outputs": [
    {
     "name": "stdout",
     "output_type": "stream",
     "text": [
      "[1, 3, 5, 7, 9]\n"
     ]
    }
   ],
   "source": [
    "numbers = [1, 2, 3, 4, 5, 6, 7, 8, 9, 10]\n",
    "\n",
    "odd_numbers = [x for x in numbers if x % 2 != 0]\n",
    "\n",
    "print(odd_numbers)"
   ]
  },
  {
   "cell_type": "markdown",
   "id": "4cff3bb7",
   "metadata": {},
   "source": [
    "#### 8) Sort a list of integers into positive and negative integers lists.     [1,2,3,4,5,6,-1,-2,-3,-4,-5,0]"
   ]
  },
  {
   "cell_type": "code",
   "execution_count": 45,
   "id": "d3e15825",
   "metadata": {},
   "outputs": [
    {
     "name": "stdout",
     "output_type": "stream",
     "text": [
      "[1, 2, 3, 4, 5, 6]\n"
     ]
    }
   ],
   "source": [
    "numbers = [1, 2, 3, 4, 5, 6, -1, -2, -3, -4, -5, 0]\n",
    "\n",
    "positive_numbers = [x for x in numbers if x > 0]\n",
    "negative_numbers = [x for x in numbers if x < 0]\n",
    "\n",
    "print(positive_numbers)"
   ]
  },
  {
   "cell_type": "code",
   "execution_count": null,
   "id": "65c1dc1a",
   "metadata": {},
   "outputs": [],
   "source": []
  }
 ],
 "metadata": {
  "kernelspec": {
   "display_name": "Python 3 (ipykernel)",
   "language": "python",
   "name": "python3"
  },
  "language_info": {
   "codemirror_mode": {
    "name": "ipython",
    "version": 3
   },
   "file_extension": ".py",
   "mimetype": "text/x-python",
   "name": "python",
   "nbconvert_exporter": "python",
   "pygments_lexer": "ipython3",
   "version": "3.8.10"
  }
 },
 "nbformat": 4,
 "nbformat_minor": 5
}
