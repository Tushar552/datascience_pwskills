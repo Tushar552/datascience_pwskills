{
 "cells": [
  {
   "cell_type": "markdown",
   "id": "befe9b64",
   "metadata": {},
   "source": [
    "### Q1. Explain Class and Object with respect to Object-Oriented Programming. Give a suitable example."
   ]
  },
  {
   "cell_type": "markdown",
   "id": "252afc0b",
   "metadata": {},
   "source": [
    "#### Python Classes\n",
    "A class is considered as a blueprint of objects. We can think of the class as a sketch (prototype) of a house. It contains all the details about the floors, doors, windows, etc. Based on these descriptions we build the house. House is the object.\n",
    "\n"
   ]
  },
  {
   "cell_type": "code",
   "execution_count": 5,
   "id": "f722ce99",
   "metadata": {},
   "outputs": [],
   "source": [
    "# create class\n",
    "\n",
    "class Student:\n",
    "    name = \"\""
   ]
  },
  {
   "cell_type": "markdown",
   "id": "67be4851",
   "metadata": {},
   "source": [
    "Since many houses can be made from the same description, we can create many objects from a class.\n",
    "\n",
    "#### Python Objects\n",
    "An object is called an instance of a class. For example, suppose Student is a class then we can create objects like Student1, Student2, etc from the class.\n"
   ]
  },
  {
   "cell_type": "code",
   "execution_count": 9,
   "id": "8e2473aa",
   "metadata": {},
   "outputs": [
    {
     "data": {
      "text/plain": [
       "'Virat'"
      ]
     },
     "execution_count": 9,
     "metadata": {},
     "output_type": "execute_result"
    }
   ],
   "source": [
    "# create objects of class\n",
    "\n",
    "Student1 = Student().name=\"Virat\"\n",
    "\n",
    "Student1"
   ]
  },
  {
   "cell_type": "markdown",
   "id": "06f102e1",
   "metadata": {},
   "source": [
    "### Q2. Name the four pillars of OOPs."
   ]
  },
  {
   "cell_type": "markdown",
   "id": "1ad8c599",
   "metadata": {},
   "source": [
    "The four pillars of OOP or Object Oriented Programming are as follows:\n",
    "\n",
    "1) Inheritance. \n",
    "\n",
    "2) Encapsulation. \n",
    "\n",
    "3) Polymorphism. \n",
    "\n",
    "4) Abstraction. \n"
   ]
  },
  {
   "cell_type": "markdown",
   "id": "57e41ea4",
   "metadata": {},
   "source": [
    "#### 1. Inheritance in python\n",
    "\n",
    " \n",
    "\n",
    "In case of real world objects, every element is a specialized within its general group of elements.\n",
    "\n",
    " \n",
    "\n",
    "For example, if we have a general class \"Animal\",  it can have two specialized classes like \"Wild\" and  \"Domestic\". Under \"Domestic\" also we may have multiple other specialized class. Thus \"Wild\" is a specialized subclass of the parent \"Animal\" class and the properties of \"Wild\" class share some properties with its parent class but it also has some unique properties which makes it unique within in parents class. This is what is called \"Inheritance\".\n",
    "\n",
    " \n",
    "\n",
    "Lets see example of inheritance in python:"
   ]
  },
  {
   "cell_type": "code",
   "execution_count": 10,
   "id": "28c6cf20",
   "metadata": {},
   "outputs": [
    {
     "name": "stdout",
     "output_type": "stream",
     "text": [
      "This animals makes some sound!\n",
      "This animal can't be pet!\n"
     ]
    }
   ],
   "source": [
    "# Creating a Class in Python\n",
    "class Animal:\n",
    "   def sounds(self):\n",
    "     print(\"This animals makes some sound!\")\n",
    "\n",
    "# Wild class inherits Animal class\n",
    "class Wild(Animal):\n",
    "  def asPet(self):\n",
    "    print(\"This animal can't be pet!\")\n",
    "\n",
    "# Domestic class inherits Animal class \n",
    "class Domestic(Animal):\n",
    "  def asPet(self):\n",
    "    print(\"This animal can be pet!\")\n",
    "\n",
    "# Creating object of Wild class\n",
    "tiger = Wild()\n",
    "\n",
    "tiger.sounds()\n",
    "# Output : This animals makes some sound!\n",
    "\n",
    "tiger.asPet()\n",
    "# Output : This animal can't be pet!"
   ]
  },
  {
   "cell_type": "markdown",
   "id": "04d17409",
   "metadata": {},
   "source": [
    "#### 2. Encapsulation in python\n",
    "\n",
    " \n",
    "\n",
    "In Python, we can protect the member variables of a class from being accessed by any program outside our class using the priniciple of Encapsulation.\n",
    "\n",
    " \n",
    "Encapsulation means binding up of code and data together under 1 wrapper which we already know as \"Class\" and provide proper access to change or modify the data of the class. We hide the variables by providing one underscore as prefix to the name of the variable.\n",
    "\n",
    "Let see an example of encapsulation in python:"
   ]
  },
  {
   "cell_type": "code",
   "execution_count": 11,
   "id": "580af9ed",
   "metadata": {},
   "outputs": [
    {
     "name": "stdout",
     "output_type": "stream",
     "text": [
      "Tiger\n"
     ]
    }
   ],
   "source": [
    "# Creating a Class in Python\n",
    "class Animal:\n",
    "\n",
    "  # Class Constructor\n",
    "  def __init__(self,species):\n",
    "     self._species = species\n",
    "\n",
    "  def sounds(self):\n",
    "     print(\"This animals makes some sound!\")\n",
    "\n",
    "\n",
    "tiger = Animal(\"Tiger\")\n",
    "print(tiger._species)\n",
    "\n",
    "# Output : Tiger"
   ]
  },
  {
   "cell_type": "markdown",
   "id": "08daf78f",
   "metadata": {},
   "source": [
    "#### 3. Polymorphism in python\n",
    "\n",
    "The word \"Polymorphism\" has been derived from Greek literature meaning \"having many forms\". It generally emphasized on the fact of common interface for general set of activities.\n",
    "\n",
    "An example of polymorphism in python is given below.\n",
    " "
   ]
  },
  {
   "cell_type": "code",
   "execution_count": 12,
   "id": "f10ce701",
   "metadata": {},
   "outputs": [
    {
     "name": "stdout",
     "output_type": "stream",
     "text": [
      "Dogs bark!\n",
      "Tigers growl!\n"
     ]
    }
   ],
   "source": [
    "# Creating a Class in Python\n",
    "class Dog:\n",
    "  \n",
    "  def makeSound(self):\n",
    "    print(\"Dogs bark!\")\n",
    "\n",
    "class Tiger:\n",
    "\n",
    "  def makeSound(self):\n",
    "    print(\"Tigers growl!\")\n",
    "\n",
    "# common interface\n",
    "def check_makeSound(animal):\n",
    "    animal.makeSound()\n",
    "\n",
    "myDog = Dog()\n",
    "myTiger = Tiger()\n",
    "\n",
    "check_makeSound(myDog) # Output : Dogs bark!\n",
    "check_makeSound(myTiger) # Output : Tigers growl!\n"
   ]
  },
  {
   "cell_type": "markdown",
   "id": "78634ab1",
   "metadata": {},
   "source": [
    "#### 4. Abstraction in python\n",
    "\n",
    "The concept of abstraction in O.O.P. is mainly utilized to create a blueprint of a class.\n",
    "\n",
    "Like we just define what member methods should be present in the class and not the way how the class implements them. The abstract class just defines what methods should be present in the classes which inherits it and not what the method does. The activity of the method is left on the subclass to decide which inherits the abstract class.\n",
    "\n",
    "By default, Python doesn't provide abstraction. There is a module named \"abc\" (Abstract Base Class) which helps us to realize the concept of abstraction in Python.\n",
    "\n",
    " \n",
    "\n"
   ]
  },
  {
   "cell_type": "code",
   "execution_count": 13,
   "id": "43ce408b",
   "metadata": {},
   "outputs": [
    {
     "name": "stdout",
     "output_type": "stream",
     "text": [
      "This is a Java programming book!\n"
     ]
    }
   ],
   "source": [
    "# Abstraction\n",
    "from abc import ABC, abstractmethod\n",
    "\n",
    "class Book(ABC):\n",
    "\n",
    "  # Abstract method\n",
    "  def book_name(self):\n",
    "    pass\n",
    "\n",
    "class Python(Book):\n",
    "\n",
    "  # Overwrite Abstract method\n",
    "  def book_name(self):\n",
    "    print(\"This is a Python programming book!\")\n",
    "  \n",
    "class Java(Book):\n",
    "\n",
    "  # Overwrite Abstract method\n",
    "  def book_name(self):\n",
    "    print(\"This is a Java programming book!\")\n",
    "\n",
    "myBook = Java()\n",
    "myBook.book_name()\n",
    "\n",
    "# Output : This is a Java programming book!"
   ]
  },
  {
   "cell_type": "markdown",
   "id": "4617115b",
   "metadata": {},
   "source": [
    "### Q3. Explain why the \\__init__() function is used. Give a suitable example."
   ]
  },
  {
   "cell_type": "markdown",
   "id": "e52ff367",
   "metadata": {},
   "source": [
    "All classes have a function called \\__init__(), which is always executed when the class is being initiated.\n",
    "\n",
    "\\__init__() function is used to assign values to object properties, or other operations that are necessary to do when the object is being created:"
   ]
  },
  {
   "cell_type": "code",
   "execution_count": 14,
   "id": "dd93cdb9",
   "metadata": {},
   "outputs": [
    {
     "name": "stdout",
     "output_type": "stream",
     "text": [
      "John\n",
      "36\n"
     ]
    }
   ],
   "source": [
    "class Person:\n",
    "  def __init__(self, name, age):\n",
    "    self.name = name\n",
    "    self.age = age\n",
    "\n",
    "p1 = Person(\"John\", 36)\n",
    "\n",
    "print(p1.name)\n",
    "print(p1.age)"
   ]
  },
  {
   "cell_type": "markdown",
   "id": "e072a4ab",
   "metadata": {},
   "source": [
    "### Q4. Why self is used in OOPs?"
   ]
  },
  {
   "cell_type": "markdown",
   "id": "1dbd5237",
   "metadata": {},
   "source": [
    "The self parameter is a reference to the current instance of the class, and is used to access variables that belongs to the class.\n",
    "\n",
    "It does not have to be named self , you can call it whatever you like, but it has to be the first parameter of any function in the class"
   ]
  },
  {
   "cell_type": "code",
   "execution_count": 16,
   "id": "fa97a019",
   "metadata": {},
   "outputs": [
    {
     "name": "stdout",
     "output_type": "stream",
     "text": [
      "Hello my name is John\n"
     ]
    }
   ],
   "source": [
    "class Person:\n",
    "  def __init__(mysillyobject, name, age):\n",
    "    mysillyobject.name = name\n",
    "    mysillyobject.age = age\n",
    "\n",
    "  def myfunc(abc):\n",
    "    print(\"Hello my name is \" + abc.name)\n",
    "\n",
    "p1 = Person(\"John\", 36)\n",
    "p1.myfunc()"
   ]
  },
  {
   "cell_type": "markdown",
   "id": "e42063e7",
   "metadata": {},
   "source": [
    "### Q5. What is inheritance? Give an example for each type of inheritance."
   ]
  },
  {
   "cell_type": "markdown",
   "id": "9cbc9dc3",
   "metadata": {},
   "source": [
    "Inheritance is defined as the mechanism of inheriting the properties of the base class to the child class."
   ]
  },
  {
   "cell_type": "markdown",
   "id": "da93aae4",
   "metadata": {},
   "source": [
    "#### Types of Inheritance in Python\n",
    "\n",
    "Types of Inheritance depend upon the number of child and parent classes involved. There are five types of inheritance in Python:\n",
    "\n"
   ]
  },
  {
   "attachments": {
    "Screenshot%20from%202023-02-11%2013-58-33.png": {
     "image/png": "[encoded data removed]"
    }
   },
   "cell_type": "markdown",
   "id": "449b8a14",
   "metadata": {},
   "source": [
    "#### 1) Single Inheritance: \n",
    "Single inheritance enables a derived class to inherit properties from a single parent class, thus enabling code reusability and the addition of new features to existing code.\n",
    "\n",
    "![Screenshot%20from%202023-02-11%2013-58-33.png](attachment:Screenshot%20from%202023-02-11%2013-58-33.png)\n"
   ]
  },
  {
   "cell_type": "code",
   "execution_count": 17,
   "id": "28e5113e",
   "metadata": {},
   "outputs": [
    {
     "name": "stdout",
     "output_type": "stream",
     "text": [
      "This function is in parent class.\n",
      "This function is in child class.\n"
     ]
    }
   ],
   "source": [
    "# Python program to demonstrate\n",
    "# single inheritance\n",
    " \n",
    "# Base class\n",
    "class Parent:\n",
    "    def func1(self):\n",
    "        print(\"This function is in parent class.\")\n",
    " \n",
    "# Derived class\n",
    " \n",
    " \n",
    "class Child(Parent):\n",
    "    def func2(self):\n",
    "        print(\"This function is in child class.\")\n",
    " \n",
    " \n",
    "# Driver's code\n",
    "object = Child()\n",
    "object.func1()\n",
    "object.func2()"
   ]
  },
  {
   "attachments": {
    "Screenshot%20from%202023-02-11%2014-00-29.png": {
     "image/png": "[encoded data removed]"
    }
   },
   "cell_type": "markdown",
   "id": "2612b8bf",
   "metadata": {},
   "source": [
    "#### 2) Multiple Inheritance: \n",
    "When a class can be derived from more than one base class this type of inheritance is called multiple inheritances. In multiple inheritances, all the features of the base classes are inherited into the derived class. \n",
    "\n",
    "\n",
    "![Screenshot%20from%202023-02-11%2014-00-29.png](attachment:Screenshot%20from%202023-02-11%2014-00-29.png)"
   ]
  },
  {
   "cell_type": "code",
   "execution_count": 19,
   "id": "1b9f8d7d",
   "metadata": {},
   "outputs": [
    {
     "name": "stdout",
     "output_type": "stream",
     "text": [
      "Father : Rahul\n",
      "Mother : Sangita\n"
     ]
    }
   ],
   "source": [
    "# Python program to demonstrate\n",
    "# multiple inheritance\n",
    " \n",
    "# Base class1\n",
    "class Mother:\n",
    "    mothername = \"\"\n",
    " \n",
    "    def mother(self):\n",
    "        print(self.mothername)\n",
    " \n",
    "# Base class2\n",
    " \n",
    " \n",
    "class Father:\n",
    "    fathername = \"\"\n",
    " \n",
    "    def father(self):\n",
    "        print(self.fathername)\n",
    " \n",
    "# Derived class\n",
    " \n",
    " \n",
    "class Son(Mother, Father):\n",
    "    def parents(self):\n",
    "        print(\"Father :\", self.fathername)\n",
    "        print(\"Mother :\", self.mothername)\n",
    " \n",
    " \n",
    "# Driver's code\n",
    "s1 = Son()\n",
    "s1.fathername = \"Rahul\"\n",
    "s1.mothername = \"Sangita\"\n",
    "s1.parents()"
   ]
  },
  {
   "attachments": {
    "Screenshot%20from%202023-02-11%2014-03-23.png": {
     "image/png": "[encoded data removed]"
    }
   },
   "cell_type": "markdown",
   "id": "5238883a",
   "metadata": {},
   "source": [
    "#### 3) Multilevel Inheritance :\n",
    "In multilevel inheritance, features of the base class and the derived class are further inherited into the new derived class. This is similar to a relationship representing a child and a grandfather.\n",
    "\n",
    "![Screenshot%20from%202023-02-11%2014-03-23.png](attachment:Screenshot%20from%202023-02-11%2014-03-23.png)"
   ]
  },
  {
   "cell_type": "code",
   "execution_count": 20,
   "id": "b0908399",
   "metadata": {},
   "outputs": [
    {
     "name": "stdout",
     "output_type": "stream",
     "text": [
      "Lal mani\n",
      "Grandfather name : Lal mani\n",
      "Father name : Rampal\n",
      "Son name : Prince\n"
     ]
    }
   ],
   "source": [
    "# Python program to demonstrate\n",
    "# multilevel inheritance\n",
    " \n",
    "# Base class\n",
    " \n",
    " \n",
    "class Grandfather:\n",
    " \n",
    "    def __init__(self, grandfathername):\n",
    "        self.grandfathername = grandfathername\n",
    " \n",
    "# Intermediate class\n",
    " \n",
    " \n",
    "class Father(Grandfather):\n",
    "    def __init__(self, fathername, grandfathername):\n",
    "        self.fathername = fathername\n",
    " \n",
    "        # invoking constructor of Grandfather class\n",
    "        Grandfather.__init__(self, grandfathername)\n",
    " \n",
    "# Derived class\n",
    " \n",
    " \n",
    "class Son(Father):\n",
    "    def __init__(self, sonname, fathername, grandfathername):\n",
    "        self.sonname = sonname\n",
    " \n",
    "        # invoking constructor of Father class\n",
    "        Father.__init__(self, fathername, grandfathername)\n",
    " \n",
    "    def print_name(self):\n",
    "        print('Grandfather name :', self.grandfathername)\n",
    "        print(\"Father name :\", self.fathername)\n",
    "        print(\"Son name :\", self.sonname)\n",
    " \n",
    " \n",
    "#  Driver code\n",
    "s1 = Son('Prince', 'Rampal', 'Lal mani')\n",
    "print(s1.grandfathername)\n",
    "s1.print_name()"
   ]
  },
  {
   "attachments": {
    "Screenshot%20from%202023-02-11%2014-05-33.png": {
     "image/png": "[encoded data removed]"
    }
   },
   "cell_type": "markdown",
   "id": "968ac0de",
   "metadata": {},
   "source": [
    "#### 4) Hierarchical Inheritance: \n",
    "When more than one derived class are created from a single base this type of inheritance is called hierarchical inheritance. In this program, we have a parent (base) class and two child (derived) classes.\n",
    "\n",
    "![Screenshot%20from%202023-02-11%2014-05-33.png](attachment:Screenshot%20from%202023-02-11%2014-05-33.png)"
   ]
  },
  {
   "cell_type": "code",
   "execution_count": 21,
   "id": "bda63f55",
   "metadata": {},
   "outputs": [
    {
     "name": "stdout",
     "output_type": "stream",
     "text": [
      "This function is in parent class.\n",
      "This function is in child 1.\n",
      "This function is in parent class.\n",
      "This function is in child 2.\n"
     ]
    }
   ],
   "source": [
    "# Python program to demonstrate\n",
    "# Hierarchical inheritance\n",
    " \n",
    " \n",
    "# Base class\n",
    "class Parent:\n",
    "    def func1(self):\n",
    "        print(\"This function is in parent class.\")\n",
    " \n",
    "# Derived class1\n",
    " \n",
    " \n",
    "class Child1(Parent):\n",
    "    def func2(self):\n",
    "        print(\"This function is in child 1.\")\n",
    " \n",
    "# Derivied class2\n",
    " \n",
    " \n",
    "class Child2(Parent):\n",
    "    def func3(self):\n",
    "        print(\"This function is in child 2.\")\n",
    " \n",
    " \n",
    "# Driver's code\n",
    "object1 = Child1()\n",
    "object2 = Child2()\n",
    "object1.func1()\n",
    "object1.func2()\n",
    "object2.func1()\n",
    "object2.func3()"
   ]
  },
  {
   "attachments": {
    "Screenshot%20from%202023-02-11%2014-09-09.png": {
     "image/png": "[encoded data removed]"
    }
   },
   "cell_type": "markdown",
   "id": "b27e61e2",
   "metadata": {},
   "source": [
    "#### 5) Hybrid Inheritance: \n",
    "Inheritance consisting of multiple types of inheritance is called hybrid inheritance.\n",
    "\n",
    "![Screenshot%20from%202023-02-11%2014-09-09.png](attachment:Screenshot%20from%202023-02-11%2014-09-09.png)"
   ]
  },
  {
   "cell_type": "code",
   "execution_count": 22,
   "id": "142eb7c4",
   "metadata": {},
   "outputs": [
    {
     "name": "stdout",
     "output_type": "stream",
     "text": [
      "This function is in school.\n",
      "This function is in student 1. \n"
     ]
    }
   ],
   "source": [
    "# Python program to demonstrate\n",
    "# hybrid inheritance\n",
    " \n",
    " \n",
    "class School:\n",
    "    def func1(self):\n",
    "        print(\"This function is in school.\")\n",
    " \n",
    " \n",
    "class Student1(School):\n",
    "    def func2(self):\n",
    "        print(\"This function is in student 1. \")\n",
    " \n",
    " \n",
    "class Student2(School):\n",
    "    def func3(self):\n",
    "        print(\"This function is in student 2.\")\n",
    " \n",
    " \n",
    "class Student3(Student1, School):\n",
    "    def func4(self):\n",
    "        print(\"This function is in student 3.\")\n",
    " \n",
    " \n",
    "# Driver's code\n",
    "object = Student3()\n",
    "object.func1()\n",
    "object.func2()"
   ]
  }
 ],
 "metadata": {
  "kernelspec": {
   "display_name": "Python 3 (ipykernel)",
   "language": "python",
   "name": "python3"
  },
  "language_info": {
   "codemirror_mode": {
    "name": "ipython",
    "version": 3
   },
   "file_extension": ".py",
   "mimetype": "text/x-python",
   "name": "python",
   "nbconvert_exporter": "python",
   "pygments_lexer": "ipython3",
   "version": "3.8.10"
  }
 },
 "nbformat": 4,
 "nbformat_minor": 5
}
